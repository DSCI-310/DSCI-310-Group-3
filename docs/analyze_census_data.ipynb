{
 "cells": [
  {
   "cell_type": "markdown",
   "metadata": {},
   "source": [
    "<h1> Analyzing Education's effect on Time Spent Working </h1>"
   ]
  },
  {
   "cell_type": "markdown",
   "metadata": {},
   "source": [
    "<h3> Summary: </h3>\n",
    "Our group aims to analyze and determine the correlation between the number of years an individual spends in school compared to how long they spend working every week. We download and clean the data, then perform a linear regression analysis to find the relationship that holds between the two."
   ]
  },
  {
   "cell_type": "markdown",
   "metadata": {},
   "source": [
    "<h3> Introduction: </h3>\n",
    "Education is often seen as a gateway to greater understanding of the world; it is also seen as a way to gain freedom from having to work low paying jobs to pay living expenses. We aim to determine the extent of this view and track how these expectations work in reality. We also use our results to predict the number of hours worked with different kinds of higher education degrees.\n",
    "\n",
    "For this project, we use the \"Census Income\" dataset from the UC Irvine Machine Learning Repository, representing data from the 1994 US Census. For more details, see the original source here: https://archive-beta.ics.uci.edu/ml/datasets/adult"
   ]
  },
  {
   "cell_type": "markdown",
   "metadata": {},
   "source": [
    "<h3> Methods & Results: </h3>"
   ]
  },
  {
   "cell_type": "markdown",
   "metadata": {},
   "source": [
    "--------------------\n",
    "\n",
    "<h4> Code:"
   ]
  },
  {
   "cell_type": "markdown",
   "metadata": {},
   "source": [
    "<h5> Imports"
   ]
  },
  {
   "cell_type": "markdown",
   "metadata": {},
   "source": [
    "We use the pandas library for storing and processing data, the numpy data for more detailed analytical functions, and the matplotlib library to plot our findings. We inlude several functions we created in the Python folder."
   ]
  },
  {
   "cell_type": "code",
   "execution_count": 1,
   "metadata": {},
   "outputs": [],
   "source": [
    "import sys\n",
    "import pandas as pd\n",
    "import numpy as np\n",
    "import matplotlib.pyplot as plt\n",
    "import urllib3 as urllib\n",
    "\n",
    "sys.path.append(\"..\")\n",
    "from src.regression import regression\n",
    "from src.filter import filter as fil\n",
    "from src.remove_column import remove_column"
   ]
  },
  {
   "cell_type": "markdown",
   "metadata": {},
   "source": [
    "<h5> Data </h5>\n",
    "\n",
    "Data is stored in a 4mb .data file from https://archive-beta.ics.uci.edu/ml/datasets/census+income, which functions as a .csv file. The column names, as well as other information on the dataset, are in the accompanying .names file. For the sake of simplicity we enter the names as a list below."
   ]
  },
  {
   "cell_type": "code",
   "execution_count": 2,
   "metadata": {},
   "outputs": [],
   "source": [
    "# if you wish to download the data again, use this function and then move the adult.data file into the data folder\n",
    "download_data = False\n",
    "\n",
    "if download_data:\n",
    "    urllib.request.urlretrieve('https://archive.ics.uci.edu/ml/machine-learning-databases/adult/adult.data','adult.data')"
   ]
  },
  {
   "cell_type": "code",
   "execution_count": 3,
   "metadata": {},
   "outputs": [
    {
     "name": "stderr",
     "output_type": "stream",
     "text": [
      "..\\Python\\remove_column.py:18: FutureWarning: In a future version of pandas all arguments of DataFrame.drop except for the argument 'labels' will be keyword-only.\n",
      "  return df.drop(column_name, 1, inplace=False)\n",
      "..\\Python\\remove_column.py:18: FutureWarning: In a future version of pandas all arguments of DataFrame.drop except for the argument 'labels' will be keyword-only.\n",
      "  return df.drop(column_name, 1, inplace=False)\n"
     ]
    },
    {
     "data": {
      "text/html": [
       "<div>\n",
       "<style scoped>\n",
       "    .dataframe tbody tr th:only-of-type {\n",
       "        vertical-align: middle;\n",
       "    }\n",
       "\n",
       "    .dataframe tbody tr th {\n",
       "        vertical-align: top;\n",
       "    }\n",
       "\n",
       "    .dataframe thead th {\n",
       "        text-align: right;\n",
       "    }\n",
       "</style>\n",
       "<table border=\"1\" class=\"dataframe\">\n",
       "  <thead>\n",
       "    <tr style=\"text-align: right;\">\n",
       "      <th></th>\n",
       "      <th>age</th>\n",
       "      <th>workclass</th>\n",
       "      <th>fnlwgt</th>\n",
       "      <th>education</th>\n",
       "      <th>education-num</th>\n",
       "      <th>marital-status</th>\n",
       "      <th>occupation</th>\n",
       "      <th>relationship</th>\n",
       "      <th>capital-gain</th>\n",
       "      <th>capital-loss</th>\n",
       "      <th>hours-per-week</th>\n",
       "      <th>native-country</th>\n",
       "      <th>income</th>\n",
       "    </tr>\n",
       "  </thead>\n",
       "  <tbody>\n",
       "    <tr>\n",
       "      <th>0</th>\n",
       "      <td>39</td>\n",
       "      <td>State-gov</td>\n",
       "      <td>77516</td>\n",
       "      <td>Bachelors</td>\n",
       "      <td>13</td>\n",
       "      <td>Never-married</td>\n",
       "      <td>Adm-clerical</td>\n",
       "      <td>Not-in-family</td>\n",
       "      <td>2174</td>\n",
       "      <td>0</td>\n",
       "      <td>40</td>\n",
       "      <td>United-States</td>\n",
       "      <td>&lt;=50K</td>\n",
       "    </tr>\n",
       "    <tr>\n",
       "      <th>1</th>\n",
       "      <td>50</td>\n",
       "      <td>Self-emp-not-inc</td>\n",
       "      <td>83311</td>\n",
       "      <td>Bachelors</td>\n",
       "      <td>13</td>\n",
       "      <td>Married-civ-spouse</td>\n",
       "      <td>Exec-managerial</td>\n",
       "      <td>Husband</td>\n",
       "      <td>0</td>\n",
       "      <td>0</td>\n",
       "      <td>13</td>\n",
       "      <td>United-States</td>\n",
       "      <td>&lt;=50K</td>\n",
       "    </tr>\n",
       "    <tr>\n",
       "      <th>2</th>\n",
       "      <td>38</td>\n",
       "      <td>Private</td>\n",
       "      <td>215646</td>\n",
       "      <td>HS-grad</td>\n",
       "      <td>9</td>\n",
       "      <td>Divorced</td>\n",
       "      <td>Handlers-cleaners</td>\n",
       "      <td>Not-in-family</td>\n",
       "      <td>0</td>\n",
       "      <td>0</td>\n",
       "      <td>40</td>\n",
       "      <td>United-States</td>\n",
       "      <td>&lt;=50K</td>\n",
       "    </tr>\n",
       "    <tr>\n",
       "      <th>3</th>\n",
       "      <td>53</td>\n",
       "      <td>Private</td>\n",
       "      <td>234721</td>\n",
       "      <td>11th</td>\n",
       "      <td>7</td>\n",
       "      <td>Married-civ-spouse</td>\n",
       "      <td>Handlers-cleaners</td>\n",
       "      <td>Husband</td>\n",
       "      <td>0</td>\n",
       "      <td>0</td>\n",
       "      <td>40</td>\n",
       "      <td>United-States</td>\n",
       "      <td>&lt;=50K</td>\n",
       "    </tr>\n",
       "    <tr>\n",
       "      <th>4</th>\n",
       "      <td>28</td>\n",
       "      <td>Private</td>\n",
       "      <td>338409</td>\n",
       "      <td>Bachelors</td>\n",
       "      <td>13</td>\n",
       "      <td>Married-civ-spouse</td>\n",
       "      <td>Prof-specialty</td>\n",
       "      <td>Wife</td>\n",
       "      <td>0</td>\n",
       "      <td>0</td>\n",
       "      <td>40</td>\n",
       "      <td>Cuba</td>\n",
       "      <td>&lt;=50K</td>\n",
       "    </tr>\n",
       "  </tbody>\n",
       "</table>\n",
       "</div>"
      ],
      "text/plain": [
       "   age          workclass  fnlwgt   education  education-num  \\\n",
       "0   39          State-gov   77516   Bachelors             13   \n",
       "1   50   Self-emp-not-inc   83311   Bachelors             13   \n",
       "2   38            Private  215646     HS-grad              9   \n",
       "3   53            Private  234721        11th              7   \n",
       "4   28            Private  338409   Bachelors             13   \n",
       "\n",
       "        marital-status          occupation    relationship  capital-gain  \\\n",
       "0        Never-married        Adm-clerical   Not-in-family          2174   \n",
       "1   Married-civ-spouse     Exec-managerial         Husband             0   \n",
       "2             Divorced   Handlers-cleaners   Not-in-family             0   \n",
       "3   Married-civ-spouse   Handlers-cleaners         Husband             0   \n",
       "4   Married-civ-spouse      Prof-specialty            Wife             0   \n",
       "\n",
       "   capital-loss  hours-per-week  native-country  income  \n",
       "0             0              40   United-States   <=50K  \n",
       "1             0              13   United-States   <=50K  \n",
       "2             0              40   United-States   <=50K  \n",
       "3             0              40   United-States   <=50K  \n",
       "4             0              40            Cuba   <=50K  "
      ]
     },
     "execution_count": 3,
     "metadata": {},
     "output_type": "execute_result"
    }
   ],
   "source": [
    "# load data, specifying there are no column names included in a header\n",
    "data = pd.read_csv('../data/adult.data', header=None)\n",
    "\n",
    "# prepare column names\n",
    "names = ['age',\n",
    "        'workclass',\n",
    "        'fnlwgt',\n",
    "        'education',\n",
    "        'education-num',\n",
    "        'marital-status',\n",
    "        'occupation',\n",
    "        'relationship',\n",
    "        'race',\n",
    "        'sex',\n",
    "        'capital-gain',\n",
    "        'capital-loss',\n",
    "        'hours-per-week',\n",
    "        'native-country',\n",
    "        'income']\n",
    "\n",
    "# assign column names\n",
    "data.columns = names\n",
    "\n",
    "# drop some unused columns\n",
    "data = remove_column(data, \"race\")\n",
    "data = remove_column(data, \"sex\")\n",
    "\n",
    "# view examples in dataset\n",
    "data.head()"
   ]
  },
  {
   "cell_type": "markdown",
   "metadata": {},
   "source": [
    "The education-num data is not the years spent in formal education, but an ordinal representation of the education category. Matching the values by counting the number of occurrences in the data, we can find the intended pairs:"
   ]
  },
  {
   "cell_type": "code",
   "execution_count": 4,
   "metadata": {},
   "outputs": [
    {
     "data": {
      "text/html": [
       "<div>\n",
       "<style scoped>\n",
       "    .dataframe tbody tr th:only-of-type {\n",
       "        vertical-align: middle;\n",
       "    }\n",
       "\n",
       "    .dataframe tbody tr th {\n",
       "        vertical-align: top;\n",
       "    }\n",
       "\n",
       "    .dataframe thead th {\n",
       "        text-align: right;\n",
       "    }\n",
       "</style>\n",
       "<table border=\"1\" class=\"dataframe\">\n",
       "  <thead>\n",
       "    <tr style=\"text-align: right;\">\n",
       "      <th></th>\n",
       "      <th>number's meaning:</th>\n",
       "    </tr>\n",
       "  </thead>\n",
       "  <tbody>\n",
       "    <tr>\n",
       "      <th>1</th>\n",
       "      <td>Preschool</td>\n",
       "    </tr>\n",
       "    <tr>\n",
       "      <th>2</th>\n",
       "      <td>1st-4th</td>\n",
       "    </tr>\n",
       "    <tr>\n",
       "      <th>3</th>\n",
       "      <td>5th-6th</td>\n",
       "    </tr>\n",
       "    <tr>\n",
       "      <th>4</th>\n",
       "      <td>7th-8th</td>\n",
       "    </tr>\n",
       "    <tr>\n",
       "      <th>5</th>\n",
       "      <td>9th</td>\n",
       "    </tr>\n",
       "    <tr>\n",
       "      <th>6</th>\n",
       "      <td>10th</td>\n",
       "    </tr>\n",
       "    <tr>\n",
       "      <th>7</th>\n",
       "      <td>11th</td>\n",
       "    </tr>\n",
       "    <tr>\n",
       "      <th>8</th>\n",
       "      <td>12th</td>\n",
       "    </tr>\n",
       "    <tr>\n",
       "      <th>9</th>\n",
       "      <td>HS-grad</td>\n",
       "    </tr>\n",
       "    <tr>\n",
       "      <th>10</th>\n",
       "      <td>Some-college</td>\n",
       "    </tr>\n",
       "    <tr>\n",
       "      <th>11</th>\n",
       "      <td>Assoc-voc</td>\n",
       "    </tr>\n",
       "    <tr>\n",
       "      <th>12</th>\n",
       "      <td>Assoc-acdm</td>\n",
       "    </tr>\n",
       "    <tr>\n",
       "      <th>13</th>\n",
       "      <td>Bachelors</td>\n",
       "    </tr>\n",
       "    <tr>\n",
       "      <th>14</th>\n",
       "      <td>Masters</td>\n",
       "    </tr>\n",
       "    <tr>\n",
       "      <th>15</th>\n",
       "      <td>Prof-school</td>\n",
       "    </tr>\n",
       "    <tr>\n",
       "      <th>16</th>\n",
       "      <td>Doctorate</td>\n",
       "    </tr>\n",
       "  </tbody>\n",
       "</table>\n",
       "</div>"
      ],
      "text/plain": [
       "   number's meaning:\n",
       "1          Preschool\n",
       "2            1st-4th\n",
       "3            5th-6th\n",
       "4            7th-8th\n",
       "5                9th\n",
       "6               10th\n",
       "7               11th\n",
       "8               12th\n",
       "9            HS-grad\n",
       "10      Some-college\n",
       "11         Assoc-voc\n",
       "12        Assoc-acdm\n",
       "13         Bachelors\n",
       "14           Masters\n",
       "15       Prof-school\n",
       "16         Doctorate"
      ]
     },
     "execution_count": 4,
     "metadata": {},
     "output_type": "execute_result"
    }
   ],
   "source": [
    "ed_counts = data['education'].value_counts().keys().tolist()\n",
    "ed_num_counts = data['education-num'].value_counts().keys().tolist()\n",
    "meanings= pd.DataFrame(ed_counts,ed_num_counts)\n",
    "meanings.columns = ['number\\'s meaning:']\n",
    "meanings.sort_index()"
   ]
  },
  {
   "cell_type": "markdown",
   "metadata": {},
   "source": [
    "**Education Numbers Meaning**:\n",
    "\n",
    "| Number | Meaning |\n",
    "|-|-|\n",
    "|**1**|Preschool|\n",
    "|**2**|1st-4th|\n",
    "|**3**|5th-6th|\n",
    "|**4**|7th-8th|\n",
    "|**5**|9th|\n",
    "|**6**|10th|\n",
    "|**7**|11th|\n",
    "|**8**|12th|\n",
    "|**9**|HS-grad|\n",
    "|**10**|Some-college|\n",
    "|**11**|Assoc-voc|\n",
    "|**12**|Assoc-acdm|\n",
    "|**13**|Bachelors|\n",
    "|**14**|Masters|\n",
    "|**15**|Prof-school|\n",
    "|**16**|Doctorate|"
   ]
  },
  {
   "cell_type": "code",
   "execution_count": 5,
   "metadata": {},
   "outputs": [
    {
     "data": {
      "text/plain": [
       "[<matplotlib.lines.Line2D at 0x127bb17a9a0>]"
      ]
     },
     "execution_count": 5,
     "metadata": {},
     "output_type": "execute_result"
    },
    {
     "data": {
      "image/png": "[encoded data removed]",
      "text/plain": [
       "<Figure size 432x288 with 1 Axes>"
      ]
     },
     "metadata": {
      "needs_background": "light"
     },
     "output_type": "display_data"
    }
   ],
   "source": [
    "# isolate variables to analyze:\n",
    "# - education-num, or number of years spent in education,\n",
    "# - hours-per-week, or reported hours spent working every week\n",
    "ed = data['education-num']\n",
    "hours = data['hours-per-week']\n",
    "\n",
    "# run polynomial regression to find best linear equation coefficients\n",
    "m, b = regression(ed, hours)\n",
    "\n",
    "# plot line calculated above\n",
    "plt.scatter(ed,hours)\n",
    "plt.plot(ed, m*ed+b)"
   ]
  },
  {
   "cell_type": "code",
   "execution_count": 6,
   "metadata": {},
   "outputs": [
    {
     "name": "stdout",
     "output_type": "stream",
     "text": [
      "preschool 33.98204328850985\n",
      "Bachelors: 42.51278728462039\n",
      "Doctorates: 44.64547328364802\n",
      "Infer three doctorates: 47.48905461568487\n"
     ]
    }
   ],
   "source": [
    "# predictions:\n",
    "\n",
    "# Only preschool\n",
    "print(\"preschool\", m*1+b)\n",
    "\n",
    "# bachelors\n",
    "print(\"Bachelors:\", m*13+b)\n",
    "\n",
    "# doctorates\n",
    "print(\"Doctorates:\", m*16+b)\n",
    "\n",
    "# 1 education-num is close to 2 years in school at the end of the scale. So, 20 is equivalent to 3 doctorates:\n",
    "print(\"Infer three doctorates:\", m*20+b)\n"
   ]
  },
  {
   "cell_type": "code",
   "execution_count": 7,
   "metadata": {},
   "outputs": [
    {
     "data": {
      "text/plain": [
       "[<matplotlib.lines.Line2D at 0x127bbfcd550>]"
      ]
     },
     "execution_count": 7,
     "metadata": {},
     "output_type": "execute_result"
    },
    {
     "data": {
      "image/png": "[encoded data removed]",
      "text/plain": [
       "<Figure size 432x288 with 1 Axes>"
      ]
     },
     "metadata": {
      "needs_background": "light"
     },
     "output_type": "display_data"
    }
   ],
   "source": [
    "# Lets see how Canada compares to the rest of the world\n",
    "\n",
    "data = data.astype({'native-country':'string'})\n",
    "df_canada = fil(data, 'native-country', 'Canada')\n",
    "\n",
    "# isolate variables to analyze:\n",
    "# - education-num, or number of years spent in education,\n",
    "# - hours-per-week, or reported hours spent working every week\n",
    "ed_canada = df_canada['education-num']\n",
    "hours_canada = df_canada['hours-per-week']\n",
    "\n",
    "# run polynomial regression to find best linear equation coefficients\n",
    "m_canada, b_canada = regression(ed_canada, hours_canada)\n",
    "\n",
    "# plot line calculated above\n",
    "plt.scatter(ed_canada, hours_canada)\n",
    "plt.plot(ed_canada, m_canada*ed_canada+b_canada)"
   ]
  },
  {
   "cell_type": "code",
   "execution_count": 8,
   "metadata": {},
   "outputs": [
    {
     "name": "stdout",
     "output_type": "stream",
     "text": [
      "preschool 41.376824659339114\n",
      "Bachelors: 40.16864879858534\n",
      "Doctorates: 39.86660483339689\n",
      "Infer three doctorates: 39.46387954647897\n"
     ]
    }
   ],
   "source": [
    "# predictions for Canada:\n",
    "\n",
    "# Only preschool\n",
    "print(\"preschool\", m_canada*1+b_canada)\n",
    "\n",
    "# bachelors\n",
    "print(\"Bachelors:\", m_canada*13+b_canada)\n",
    "\n",
    "# doctorates\n",
    "print(\"Doctorates:\", m_canada*16+b_canada)\n",
    "\n",
    "# 1 education-num is close to 2 years in school at the end of the scale. So, 20 is equivalent to 3 doctorates:\n",
    "print(\"Infer three doctorates:\", m_canada*20+b_canada)"
   ]
  },
  {
   "cell_type": "code",
   "execution_count": 9,
   "metadata": {},
   "outputs": [
    {
     "data": {
      "text/plain": [
       "[<matplotlib.lines.Line2D at 0x127bc0306a0>]"
      ]
     },
     "execution_count": 9,
     "metadata": {},
     "output_type": "execute_result"
    },
    {
     "data": {
      "image/png": "[encoded data removed]",
      "text/plain": [
       "<Figure size 432x288 with 1 Axes>"
      ]
     },
     "metadata": {
      "needs_background": "light"
     },
     "output_type": "display_data"
    }
   ],
   "source": [
    "# Lets compare that to neighbours USA\n",
    "df_usa = fil(data, 'native-country', 'United-States')\n",
    "\n",
    "# isolate variables to analyze:\n",
    "# - education-num, or number of years spent in education,\n",
    "# - hours-per-week, or reported hours spent working every week\n",
    "ed_usa = df_usa['education-num']\n",
    "hours_usa = df_usa['hours-per-week']\n",
    "\n",
    "# run polynomial regression to find best linear equation coefficients\n",
    "m_usa, b_usa = regression(ed_canada, hours_canada)\n",
    "\n",
    "# plot line calculated above\n",
    "plt.scatter(ed_usa, hours_usa)\n",
    "plt.plot(ed_usa, m_usa*ed_usa+b_usa)"
   ]
  },
  {
   "cell_type": "code",
   "execution_count": 10,
   "metadata": {},
   "outputs": [
    {
     "name": "stdout",
     "output_type": "stream",
     "text": [
      "preschool 41.376824659339114\n",
      "Bachelors: 40.16864879858534\n",
      "Doctorates: 39.86660483339689\n",
      "Infer three doctorates: 39.46387954647897\n"
     ]
    }
   ],
   "source": [
    "# predictions for Canada:\n",
    "\n",
    "# Only preschool\n",
    "print(\"preschool\", m_usa*1+b_usa)\n",
    "\n",
    "# bachelors\n",
    "print(\"Bachelors:\", m_usa*13+b_usa)\n",
    "\n",
    "# doctorates\n",
    "print(\"Doctorates:\", m_usa*16+b_usa)\n",
    "\n",
    "# 1 education-num is close to 2 years in school at the end of the scale. So, 20 is equivalent to 3 doctorates:\n",
    "print(\"Infer three doctorates:\", m_usa*20+b_usa)"
   ]
  },
  {
   "cell_type": "markdown",
   "metadata": {},
   "source": [
    "<h3> Discussion: </h3>\n",
    "\n",
    "Looking at our graph above, we can that there is a positive correlation between education level and hours worked. Someone with minimal education would likely not have a full time job, and people with bachelors or doctorates tend to work slightly more (This could be due to most working exactly 40, and some working many more). Following the trend to a higher number like 20, a rough equivalent of 3 PhDs, brings us to an estimate of 47.49 hours worked a week.\n",
    "\n",
    "There are many possible explanations as to why this exists. One possibility is that this is caused by students still in school, who have low education levels and would only work part time. Another is that jobs with lower education requirements do not allow for advancement to full time work, or that jobs with higher requirements are more demanding. \n",
    "\n",
    "However we can also see that our predictive model is misleading as the model predicts that pre-school kids work 33.98 hours  per week. We know that this is incorrect. This does not mean that people in pre-school work 33.98 hours a week but that people that only completed pre-school and nothing else sometime in the past now work that many hours. \n",
    "\n",
    "Looking at the graphs for Canada and USA only, we can see that there actually is a negative correlation between hours worked and education level. This can be because at higher education levels you may still be spending a lot of time studying rather than learning hence your hours stay the same. The working hours for education level are almost consistent at 40hrs which is the standard full time job in Canada and USA hence it makes sense that it is consistent with all education levels as it just means everyone is working standard full time hours.\n",
    "\n",
    "Analyzing other variables in this data-set such as age could offer hints as to which explanation is correct. To be certain and to distinguish if this is truly causation or just correlation would likely require gathering more detailed data from other sources."
   ]
  },
  {
   "cell_type": "markdown",
   "metadata": {},
   "source": [
    "<h3> References: </h3>\n",
    "\n",
    "Bick, Alexander, Nicola Fuchs-Schündeln, and David Lagakos. \"How do hours worked vary with income? Cross-country evidence and implications.\" American Economic Review 108.1 (2018): 170-99.\n",
    "\n",
    "Boswell, Robert A., and David L. Passmore. \"Role of early family configuration and hours worked on student success in two-year colleges.\" Community College Enterprise 19.1 (2013): 9-18.\n",
    "\n",
    "Causa, Orsetta. \"Explaining differences in hours worked among OECD countries: An empirical analysis.\" (2008).\n",
    "\n",
    "Heckman, James J. \"The economics of inequality: The value of early childhood education.\" American Educator 35.1 (2011): 31.\n",
    "\n"
   ]
  },
  {
   "cell_type": "code",
   "execution_count": null,
   "metadata": {},
   "outputs": [],
   "source": []
  }
 ],
 "metadata": {
  "kernelspec": {
   "display_name": "Python 3 (ipykernel)",
   "language": "python",
   "name": "python3"
  },
  "language_info": {
   "codemirror_mode": {
    "name": "ipython",
    "version": 3
   },
   "file_extension": ".py",
   "mimetype": "text/x-python",
   "name": "python",
   "nbconvert_exporter": "python",
   "pygments_lexer": "ipython3",
   "version": "3.9.10"
  }
 },
 "nbformat": 4,
 "nbformat_minor": 4
}
