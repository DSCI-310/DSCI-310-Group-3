{
 "cells": [
  {
   "cell_type": "markdown",
   "metadata": {},
   "source": [
    "# Analyzing Education's effect on Time Spent Working"
   ]
  },
  {
   "cell_type": "markdown",
   "metadata": {},
   "source": [
    "## Summary:\n",
    "Our group aims to analyze and determine the correlation between the number of years an individual spends in school compared to how long they spend working every week. We download and clean the data, then perform a linear regression analysis to find the relationship that holds between the two."
   ]
  },
  {
   "cell_type": "markdown",
   "metadata": {},
   "source": [
    "## Introduction:\n",
    "Education is often seen as a gateway to greater understanding of the world; it is also seen as a way to gain freedom from having to work low paying jobs to pay living expenses. We aim to determine the extent of this view and track how these expectations work in reality. We also use our results to predict the number of hours worked with different kinds of higher education degrees.\n",
    "\n",
    "For this project, we use the \"Census Income\" dataset from the UC Irvine Machine Learning Repository, representing data from the 1994 US Census. For more details, see the original source here: https://archive-beta.ics.uci.edu/ml/datasets/adult"
   ]
  },
  {
   "cell_type": "markdown",
   "metadata": {},
   "source": [
    "## Methods & Results:"
   ]
  },
  {
   "cell_type": "markdown",
   "metadata": {},
   "source": [
    "--------------------\n",
    "\n",
    "### Code:"
   ]
  },
  {
   "cell_type": "markdown",
   "metadata": {},
   "source": [
    "#### Imports"
   ]
  },
  {
   "cell_type": "markdown",
   "metadata": {},
   "source": [
    "We use the pandas library for storing and processing data, the numpy data for more detailed analytical functions, and the matplotlib library to plot our findings. We inlude several functions we created in the Python folder."
   ]
  },
  {
   "cell_type": "code",
   "execution_count": 9,
   "metadata": {
    "tags": [
     "remove-cell"
    ]
   },
   "outputs": [],
   "source": [
    "from myst_nb import glue\n",
    "import sys\n",
    "import pandas as pd\n",
    "sys.path.append(\"..\")\n",
    "from src.regression import regression\n",
    "from src.filter import filter as fil\n",
    "from src.remove_column import remove_column"
   ]
  },
  {
   "cell_type": "markdown",
   "metadata": {},
   "source": [
    "#### Data \n",
    "\n",
    "Data is stored in a 4mb .data file from https://archive-beta.ics.uci.edu/ml/datasets/census+income, which functions as a .csv file. The column names, as well as other information on the dataset, are in the accompanying .names file. "
   ]
  },
  {
   "cell_type": "code",
   "execution_count": 10,
   "metadata": {
    "tags": [
     "remove-cell"
    ]
   },
   "outputs": [
    {
     "data": {
      "text/html": [
       "<div>\n",
       "<style scoped>\n",
       "    .dataframe tbody tr th:only-of-type {\n",
       "        vertical-align: middle;\n",
       "    }\n",
       "\n",
       "    .dataframe tbody tr th {\n",
       "        vertical-align: top;\n",
       "    }\n",
       "\n",
       "    .dataframe thead th {\n",
       "        text-align: right;\n",
       "    }\n",
       "</style>\n",
       "<table border=\"1\" class=\"dataframe\">\n",
       "  <thead>\n",
       "    <tr style=\"text-align: right;\">\n",
       "      <th></th>\n",
       "      <th>age</th>\n",
       "      <th>workclass</th>\n",
       "      <th>fnlwgt</th>\n",
       "      <th>education</th>\n",
       "      <th>education-num</th>\n",
       "      <th>marital-status</th>\n",
       "      <th>occupation</th>\n",
       "      <th>relationship</th>\n",
       "      <th>capital-gain</th>\n",
       "      <th>capital-loss</th>\n",
       "      <th>hours-per-week</th>\n",
       "      <th>native-country</th>\n",
       "      <th>income</th>\n",
       "    </tr>\n",
       "  </thead>\n",
       "  <tbody>\n",
       "    <tr>\n",
       "      <th>0</th>\n",
       "      <td>39</td>\n",
       "      <td>State-gov</td>\n",
       "      <td>77516</td>\n",
       "      <td>Bachelors</td>\n",
       "      <td>13</td>\n",
       "      <td>Never-married</td>\n",
       "      <td>Adm-clerical</td>\n",
       "      <td>Not-in-family</td>\n",
       "      <td>2174</td>\n",
       "      <td>0</td>\n",
       "      <td>40</td>\n",
       "      <td>United-States</td>\n",
       "      <td>&lt;=50K</td>\n",
       "    </tr>\n",
       "    <tr>\n",
       "      <th>1</th>\n",
       "      <td>50</td>\n",
       "      <td>Self-emp-not-inc</td>\n",
       "      <td>83311</td>\n",
       "      <td>Bachelors</td>\n",
       "      <td>13</td>\n",
       "      <td>Married-civ-spouse</td>\n",
       "      <td>Exec-managerial</td>\n",
       "      <td>Husband</td>\n",
       "      <td>0</td>\n",
       "      <td>0</td>\n",
       "      <td>13</td>\n",
       "      <td>United-States</td>\n",
       "      <td>&lt;=50K</td>\n",
       "    </tr>\n",
       "    <tr>\n",
       "      <th>2</th>\n",
       "      <td>38</td>\n",
       "      <td>Private</td>\n",
       "      <td>215646</td>\n",
       "      <td>HS-grad</td>\n",
       "      <td>9</td>\n",
       "      <td>Divorced</td>\n",
       "      <td>Handlers-cleaners</td>\n",
       "      <td>Not-in-family</td>\n",
       "      <td>0</td>\n",
       "      <td>0</td>\n",
       "      <td>40</td>\n",
       "      <td>United-States</td>\n",
       "      <td>&lt;=50K</td>\n",
       "    </tr>\n",
       "    <tr>\n",
       "      <th>3</th>\n",
       "      <td>53</td>\n",
       "      <td>Private</td>\n",
       "      <td>234721</td>\n",
       "      <td>11th</td>\n",
       "      <td>7</td>\n",
       "      <td>Married-civ-spouse</td>\n",
       "      <td>Handlers-cleaners</td>\n",
       "      <td>Husband</td>\n",
       "      <td>0</td>\n",
       "      <td>0</td>\n",
       "      <td>40</td>\n",
       "      <td>United-States</td>\n",
       "      <td>&lt;=50K</td>\n",
       "    </tr>\n",
       "    <tr>\n",
       "      <th>4</th>\n",
       "      <td>28</td>\n",
       "      <td>Private</td>\n",
       "      <td>338409</td>\n",
       "      <td>Bachelors</td>\n",
       "      <td>13</td>\n",
       "      <td>Married-civ-spouse</td>\n",
       "      <td>Prof-specialty</td>\n",
       "      <td>Wife</td>\n",
       "      <td>0</td>\n",
       "      <td>0</td>\n",
       "      <td>40</td>\n",
       "      <td>Cuba</td>\n",
       "      <td>&lt;=50K</td>\n",
       "    </tr>\n",
       "  </tbody>\n",
       "</table>\n",
       "</div>"
      ],
      "text/plain": [
       "   age          workclass  fnlwgt   education  education-num  \\\n",
       "0   39          State-gov   77516   Bachelors             13   \n",
       "1   50   Self-emp-not-inc   83311   Bachelors             13   \n",
       "2   38            Private  215646     HS-grad              9   \n",
       "3   53            Private  234721        11th              7   \n",
       "4   28            Private  338409   Bachelors             13   \n",
       "\n",
       "        marital-status          occupation    relationship  capital-gain  \\\n",
       "0        Never-married        Adm-clerical   Not-in-family          2174   \n",
       "1   Married-civ-spouse     Exec-managerial         Husband             0   \n",
       "2             Divorced   Handlers-cleaners   Not-in-family             0   \n",
       "3   Married-civ-spouse   Handlers-cleaners         Husband             0   \n",
       "4   Married-civ-spouse      Prof-specialty            Wife             0   \n",
       "\n",
       "   capital-loss  hours-per-week  native-country  income  \n",
       "0             0              40   United-States   <=50K  \n",
       "1             0              13   United-States   <=50K  \n",
       "2             0              40   United-States   <=50K  \n",
       "3             0              40   United-States   <=50K  \n",
       "4             0              40            Cuba   <=50K  "
      ]
     },
     "metadata": {
      "scrapbook": {
       "mime_prefix": "",
       "name": "data_head"
      }
     },
     "output_type": "display_data"
    }
   ],
   "source": [
    "data = pd.read_csv('../data/adult.data')\n",
    "data_head = data.head()\n",
    "\n",
    "glue(\"data_head\", data_head)"
   ]
  },
  {
   "cell_type": "markdown",
   "metadata": {},
   "source": [
    "```{glue:figure} data_head\n",
    ":figwidth: 800px\n",
    ":name: \"dataset\"\n",
    "Cleaned dataset\n",
    "```"
   ]
  },
  {
   "cell_type": "markdown",
   "metadata": {},
   "source": [
    "```{glue:} data\n",
    "```"
   ]
  },
  {
   "cell_type": "markdown",
   "metadata": {},
   "source": [
    "The education-num data is not the years spent in formal education, but an ordinal representation of the education category. Matching the values by counting the number of occurrences in the data, we can find the intended pairs:"
   ]
  },
  {
   "cell_type": "code",
   "execution_count": 18,
   "metadata": {
    "tags": [
     "remove-cell"
    ]
   },
   "outputs": [
    {
     "data": {
      "text/html": [
       "<div>\n",
       "<style scoped>\n",
       "    .dataframe tbody tr th:only-of-type {\n",
       "        vertical-align: middle;\n",
       "    }\n",
       "\n",
       "    .dataframe tbody tr th {\n",
       "        vertical-align: top;\n",
       "    }\n",
       "\n",
       "    .dataframe thead th {\n",
       "        text-align: right;\n",
       "    }\n",
       "</style>\n",
       "<table border=\"1\" class=\"dataframe\">\n",
       "  <thead>\n",
       "    <tr style=\"text-align: right;\">\n",
       "      <th></th>\n",
       "      <th>Number</th>\n",
       "      <th>1</th>\n",
       "      <th>2</th>\n",
       "      <th>3</th>\n",
       "      <th>4</th>\n",
       "    </tr>\n",
       "  </thead>\n",
       "  <tbody>\n",
       "    <tr>\n",
       "      <th>0</th>\n",
       "      <td>Meaning</td>\n",
       "      <td>Preschool</td>\n",
       "      <td>1st-4th</td>\n",
       "      <td>5th-6th</td>\n",
       "      <td>5th-6th</td>\n",
       "    </tr>\n",
       "  </tbody>\n",
       "</table>\n",
       "</div>"
      ],
      "text/plain": [
       "    Number          1        2        3        4\n",
       "0  Meaning  Preschool  1st-4th  5th-6th  5th-6th"
      ]
     },
     "metadata": {
      "scrapbook": {
       "mime_prefix": "",
       "name": "legend"
      }
     },
     "output_type": "display_data"
    }
   ],
   "source": [
    "legend = pd.DataFrame({'Number':[\"Meaning\"],\n",
    "'1':[\"Preschool\"],\n",
    "'2':[\"1st-4th\"],\n",
    "'3':[\"5th-6th\"],\n",
    "'4':[\"7th-8th\"],\n",
    "'5':[\"9th\"],\n",
    "'6':[\"10th\"],\n",
    "'7':[\"11th\"],\n",
    "'8':[\"12th\"],\n",
    "'9':[\"HS-grad\"],\n",
    "'10':[\"Some-college\"],\n",
    "'11':[\"Assoc-voc\"],\n",
    "'12':[\"Assoc-adm\"],\n",
    "'13':[\"Bachelors\"],\n",
    "'14':[\"Masters\"],\n",
    "'15':[\"Prof-school\"],\n",
    "'16':[\"Doctorate\"],})\n",
    "glue(\"legend\", legend)"
   ]
  },
  {
   "cell_type": "markdown",
   "metadata": {},
   "source": [
    "```{glue:figure} legend\n",
    ":figwidth: 800px\n",
    ":name: \"legend\"\n",
    "Education Numbers Meaning\n",
    "```"
   ]
  },
  {
   "cell_type": "markdown",
   "metadata": {},
   "source": [
    "```{figure} ../data/ed_hours_plot.png\n",
    "---\n",
    "height: 300px\n",
    "name: ed_hours_plot\n",
    "---\n",
    "Level of Education vs Hours Worked per Week (All individuals)\n",
    "```"
   ]
  },
  {
   "cell_type": "code",
   "execution_count": 11,
   "metadata": {
    "tags": [
     "remove-cell"
    ]
   },
   "outputs": [
    {
     "data": {
      "text/plain": [
       "33.98"
      ]
     },
     "metadata": {
      "scrapbook": {
       "mime_prefix": "",
       "name": "preschool"
      }
     },
     "output_type": "display_data"
    },
    {
     "data": {
      "text/plain": [
       "42.51"
      ]
     },
     "metadata": {
      "scrapbook": {
       "mime_prefix": "",
       "name": "bachelors"
      }
     },
     "output_type": "display_data"
    },
    {
     "data": {
      "text/plain": [
       "44.65"
      ]
     },
     "metadata": {
      "scrapbook": {
       "mime_prefix": "",
       "name": "doctorates"
      }
     },
     "output_type": "display_data"
    },
    {
     "data": {
      "text/plain": [
       "47.49"
      ]
     },
     "metadata": {
      "scrapbook": {
       "mime_prefix": "",
       "name": "3_doctorates"
      }
     },
     "output_type": "display_data"
    }
   ],
   "source": [
    "ed = data['education-num']\n",
    "hours = data['hours-per-week']\n",
    "m, b = regression(ed, hours)\n",
    "preschool = round(m*1+b, 2)\n",
    "bachelors = round(m*13+b, 2)\n",
    "doctorates = round(m*16+b, 2)\n",
    "three_doctorates = round(m*20+b, 2)\n",
    "\n",
    "# Only preschool\n",
    "glue(\"preschool\", preschool)\n",
    "# bachelors\n",
    "glue(\"bachelors\", bachelors)\n",
    "# doctorates\n",
    "glue(\"doctorates\", doctorates)\n",
    "# 1 education-num is close to 2 years in school at the end of the scale. So, 20 is equivalent to 3 doctorates:\n",
    "glue(\"3_doctorates\", three_doctorates)"
   ]
  },
  {
   "cell_type": "markdown",
   "metadata": {},
   "source": [
    "```{figure} ../data/canada_plot.png\n",
    "---\n",
    "height: 300px\n",
    "name: canada_plot\n",
    "---\n",
    "Level of Education vs Hours Worked per Week (Canadians only)\n",
    "```"
   ]
  },
  {
   "cell_type": "code",
   "execution_count": 12,
   "metadata": {
    "tags": [
     "remove-cell"
    ]
   },
   "outputs": [
    {
     "data": {
      "text/plain": [
       "41.38"
      ]
     },
     "metadata": {
      "scrapbook": {
       "mime_prefix": "",
       "name": "preschool_canada"
      }
     },
     "output_type": "display_data"
    },
    {
     "data": {
      "text/plain": [
       "40.17"
      ]
     },
     "metadata": {
      "scrapbook": {
       "mime_prefix": "",
       "name": "bachelors_canada"
      }
     },
     "output_type": "display_data"
    },
    {
     "data": {
      "text/plain": [
       "39.87"
      ]
     },
     "metadata": {
      "scrapbook": {
       "mime_prefix": "",
       "name": "doctorates_canada"
      }
     },
     "output_type": "display_data"
    },
    {
     "data": {
      "text/plain": [
       "39.46"
      ]
     },
     "metadata": {
      "scrapbook": {
       "mime_prefix": "",
       "name": "3_doctorates_canada"
      }
     },
     "output_type": "display_data"
    }
   ],
   "source": [
    "data_canada = pd.read_csv('../data/adult.data_canada.data')\n",
    "ed_canada = data_canada['education-num']\n",
    "hours_canada = data_canada['hours-per-week']\n",
    "m, b = regression(ed_canada, hours_canada)\n",
    "preschool_canada = round(m*1+b, 2)\n",
    "bachelors_canada = round(m*13+b, 2)\n",
    "doctorates_canada = round(m*16+b, 2)\n",
    "three_doctorates_canada = round(m*20+b, 2)\n",
    "\n",
    "# Only preschool\n",
    "glue(\"preschool_canada\", preschool_canada)\n",
    "# bachelors\n",
    "glue(\"bachelors_canada\", bachelors_canada)\n",
    "# doctorates\n",
    "glue(\"doctorates_canada\", doctorates_canada)\n",
    "# 1 education-num is close to 2 years in school at the end of the scale. So, 20 is equivalent to 3 doctorates:\n",
    "glue(\"3_doctorates_canada\", three_doctorates_canada)"
   ]
  },
  {
   "cell_type": "markdown",
   "metadata": {},
   "source": [
    "```{figure} ../data/usa_plot.png\n",
    "---\n",
    "height: 300px\n",
    "name: usa_plot\n",
    "---\n",
    "Level of Education vs Hours Worked per Week (Americans only)\n",
    "```"
   ]
  },
  {
   "cell_type": "code",
   "execution_count": 13,
   "metadata": {
    "tags": [
     "remove-cell"
    ]
   },
   "outputs": [
    {
     "data": {
      "text/plain": [
       "32.75"
      ]
     },
     "metadata": {
      "scrapbook": {
       "mime_prefix": "",
       "name": "preschool_usa"
      }
     },
     "output_type": "display_data"
    },
    {
     "data": {
      "text/plain": [
       "42.82"
      ]
     },
     "metadata": {
      "scrapbook": {
       "mime_prefix": "",
       "name": "bachelors_usa"
      }
     },
     "output_type": "display_data"
    },
    {
     "data": {
      "text/plain": [
       "45.34"
      ]
     },
     "metadata": {
      "scrapbook": {
       "mime_prefix": "",
       "name": "doctorates_usa"
      }
     },
     "output_type": "display_data"
    },
    {
     "data": {
      "text/plain": [
       "48.7"
      ]
     },
     "metadata": {
      "scrapbook": {
       "mime_prefix": "",
       "name": "3_doctorates_usa"
      }
     },
     "output_type": "display_data"
    }
   ],
   "source": [
    "data_usa = pd.read_csv('../data/adult.data_usa.data')\n",
    "ed_usa = data_usa['education-num']\n",
    "hours_usa = data_usa['hours-per-week']\n",
    "m, b = regression(ed_usa, hours_usa)\n",
    "preschool_usa = round(m*1+b, 2)\n",
    "bachelors_usa = round(m*13+b, 2)\n",
    "doctorates_usa = round(m*16+b, 2)\n",
    "three_doctorates_usa = round(m*20+b, 2)\n",
    "\n",
    "# Only preschool\n",
    "glue(\"preschool_usa\", preschool_usa)\n",
    "# bachelors\n",
    "glue(\"bachelors_usa\", bachelors_usa)\n",
    "# doctorates\n",
    "glue(\"doctorates_usa\", doctorates_usa)\n",
    "# 1 education-num is close to 2 years in school at the end of the scale. So, 20 is equivalent to 3 doctorates:\n",
    "glue(\"3_doctorates_usa\", three_doctorates_usa)"
   ]
  },
  {
   "cell_type": "code",
   "execution_count": null,
   "metadata": {
    "tags": [
     "remove-cell"
    ]
   },
   "outputs": [
    {
     "data": {
      "text/html": [
       "<div>\n",
       "<style scoped>\n",
       "    .dataframe tbody tr th:only-of-type {\n",
       "        vertical-align: middle;\n",
       "    }\n",
       "\n",
       "    .dataframe tbody tr th {\n",
       "        vertical-align: top;\n",
       "    }\n",
       "\n",
       "    .dataframe thead th {\n",
       "        text-align: right;\n",
       "    }\n",
       "</style>\n",
       "<table border=\"1\" class=\"dataframe\">\n",
       "  <thead>\n",
       "    <tr style=\"text-align: right;\">\n",
       "      <th></th>\n",
       "      <th></th>\n",
       "      <th>All individuals</th>\n",
       "      <th>Canadians</th>\n",
       "      <th>Americans</th>\n",
       "    </tr>\n",
       "  </thead>\n",
       "  <tbody>\n",
       "    <tr>\n",
       "      <th>0</th>\n",
       "      <td>Preschool</td>\n",
       "      <td>33.98</td>\n",
       "      <td>41.38</td>\n",
       "      <td>32.75</td>\n",
       "    </tr>\n",
       "    <tr>\n",
       "      <th>1</th>\n",
       "      <td>Bachelors</td>\n",
       "      <td>42.51</td>\n",
       "      <td>40.17</td>\n",
       "      <td>42.82</td>\n",
       "    </tr>\n",
       "    <tr>\n",
       "      <th>2</th>\n",
       "      <td>Doctorate</td>\n",
       "      <td>44.65</td>\n",
       "      <td>39.87</td>\n",
       "      <td>45.34</td>\n",
       "    </tr>\n",
       "    <tr>\n",
       "      <th>3</th>\n",
       "      <td>3 Doctorates</td>\n",
       "      <td>47.49</td>\n",
       "      <td>39.46</td>\n",
       "      <td>48.70</td>\n",
       "    </tr>\n",
       "  </tbody>\n",
       "</table>\n",
       "</div>"
      ],
      "text/plain": [
       "                 All individuals  Canadians  Americans\n",
       "0     Preschool            33.98      41.38      32.75\n",
       "1     Bachelors            42.51      40.17      42.82\n",
       "2     Doctorate            44.65      39.87      45.34\n",
       "3  3 Doctorates            47.49      39.46      48.70"
      ]
     },
     "metadata": {
      "scrapbook": {
       "mime_prefix": "",
       "name": "df"
      }
     },
     "output_type": "display_data"
    }
   ],
   "source": [
    "df = pd.DataFrame({\"\":[\"Preschool\", \"Bachelors\", \"Doctorate\", \"3 Doctorates\"], \n",
    "\"All individuals\":[preschool, bachelors, doctorates, three_doctorates], \n",
    "\"Canadians\":[preschool_canada, bachelors_canada, doctorates_canada, three_doctorates_canada],\n",
    "\"Americans\":[preschool_usa, bachelors_usa, doctorates_usa, three_doctorates_usa]})\n",
    "glue(\"df\", df)"
   ]
  },
  {
   "cell_type": "markdown",
   "metadata": {},
   "source": [
    "```{glue:figure} df\n",
    ":figwidth: 600px\n",
    ":name: \"table\"\n",
    "Level of education vs population subsets\n",
    "```"
   ]
  },
  {
   "cell_type": "markdown",
   "metadata": {},
   "source": [
    "## Discussion:\n",
    "\n",
    "Looking at {numref}`ed_hours_plot`, we can that there is a positive correlation between education level and hours worked. Someone with minimal education would likely not have a full time job (i.e preschool has an estimate of {glue:text}`preschool` hours worked, and people with bachelors or doctorates tend to work slightly more ({glue:text}`bachelors` and {glue:text}`doctorates` hours worked respectively) (This could be due to most working exactly 40, and some working many more). Following the trend to a higher number like 20, a rough equivalent of 3 PhDs, brings us to an estimate of {glue:text}`3_doctorates` hours worked a week.\n",
    "\n",
    "There are many possible explanations as to why this exists. One possibility is that this is caused by students still in school, who have low education levels and would only work part time. Another is that jobs with lower education requirements do not allow for advancement to full time work, or that jobs with higher requirements are more demanding. \n",
    "\n",
    "However we can also see that our predictive model is misleading as the model predicts that pre-school kids work {glue:text}`preschool` hours per week. We know that this is incorrect. This does not mean that people in pre-school work {glue:text}`preschool` hours a week but that people that only completed pre-school and nothing else sometime in the past now work that many hours. \n",
    "\n",
    "Looking at the graphs for Canadians ({numref}`canada_plot`) and Americans ({numref}`usa_plot`) only, we can see that there actually is a negative correlation between hours worked and education level. This can be because at higher education levels you may still be spending a lot of time studying rather than learning hence your hours stay the same. The working hours for education level are almost consistent at 40hrs which is the standard full time job in Canada and USA hence it makes sense that it is consistent with all education levels as it just means everyone is working standard full time hours.\n",
    "\n",
    "Analyzing other variables in this data-set such as age could offer hints as to which explanation is correct. To be certain and to distinguish if this is truly causation or just correlation would likely require gathering more detailed data from other sources."
   ]
  },
  {
   "cell_type": "markdown",
   "metadata": {},
   "source": [
    "## References:"
   ]
  },
  {
   "cell_type": "markdown",
   "metadata": {},
   "source": [
    "{cite}`bick_2018, boswell_2013, causa_2008, heckman_2011`"
   ]
  },
  {
   "cell_type": "markdown",
   "metadata": {},
   "source": [
    "```{bibliography}\n",
    ":filter: docname in docnames\n",
    "```"
   ]
  }
 ],
 "metadata": {
  "celltoolbar": "Tags",
  "kernelspec": {
   "display_name": "Python 3 (ipykernel)",
   "language": "python",
   "name": "python3"
  },
  "language_info": {
   "codemirror_mode": {
    "name": "ipython",
    "version": 3
   },
   "file_extension": ".py",
   "mimetype": "text/x-python",
   "name": "python",
   "nbconvert_exporter": "python",
   "pygments_lexer": "ipython3",
   "version": "3.9.6"
  }
 },
 "nbformat": 4,
 "nbformat_minor": 4
}
