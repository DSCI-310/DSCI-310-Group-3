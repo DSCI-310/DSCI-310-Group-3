import pandas as pd
import numpy as np
import matplotlib.pyplot as plt

# our functions, in Python folder
from Python.regression import regression


# load data, specifying there are no column names included in a header
data = pd.read_csv('data/adult.data', header=None)

# prepare column names
names = ['age',
        'workclass',
        'fnlwgt',
        'education',
        'education-num',
        'marital-status',
        'occupation',
        'relationship',
        'race',
        'sex',
        'capital-gain',
        'capital-loss',
        'hours-per-week',
        'native-country',
        'income']

# assign column names
data.columns = names

# view examples in dataset
data.head()


ed_counts = data['education'].value_counts().keys().tolist()
ed_num_counts = data['education-num'].value_counts().keys().tolist()
meanings= pd.DataFrame(ed_counts,ed_num_counts)
meanings.columns = ['number\'s meaning:']
meanings.sort_index()


# isolate variables to analyze:
# - education-num, or number of years spent in education,
# - hours-per-week, or reported hours spent working every week
ed = data['education-num']
hours = data['hours-per-week']

# run polynomial regression to find best linear equation coefficients
m, b = regression(ed, hours)

# plot line calculated above
plt.scatter(ed,hours)
plt.plot(ed, m*ed+b)


# predictions:

# Only preschool
print("preschool", m*1+b)

# bachelors
print("Bachelors:", m*13+b)

# doctorates
print("Doctorates:", m*16+b)

# 1 education-num is close to 2 years in school at the end of the scale. So, 20 is equivalent to 3 doctorates:
print("Infer three doctorates:", m*20+b)

